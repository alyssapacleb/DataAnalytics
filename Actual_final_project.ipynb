{
 "cells": [
  {
   "cell_type": "markdown",
   "metadata": {},
   "source": [
    "# Final Project for Data Analytics\n",
    "\n",
    "## Alyssa June Pacleb, Ravi Goparaju, Adeena Amersi, Ryan Chiapoco\n",
    "\n",
    "We are trying to predict the political party subjects donate to given their occupation, donation amount, election phase, and year."
   ]
  },
  {
   "cell_type": "code",
   "execution_count": 1,
   "metadata": {},
   "outputs": [],
   "source": [
    "import warnings\n",
    "warnings.simplefilter(\"ignore\")\n",
    "import pandas as pd\n",
    "import numpy as np\n",
    "import sklearn as sk\n",
    "import matplotlib.pyplot as plt\n",
    "from sklearn.preprocessing import StandardScaler\n",
    "from sklearn.model_selection import train_test_split\n",
    "import time\n",
    "from sklearn.model_selection import train_test_split\n",
    "from sklearn.preprocessing import StandardScaler\n",
    "from sklearn.decomposition import PCA\n",
    "from sklearn.tree import DecisionTreeClassifier\n",
    "from sklearn.model_selection import cross_val_score\n",
    "from sklearn.model_selection import GridSearchCV\n",
    "\n",
    "%matplotlib inline"
   ]
  },
  {
   "cell_type": "markdown",
   "metadata": {},
   "source": [
    "# Science Giving Column Meanings and Types\n",
    "\n",
    "Column Name | Definition | Type\n",
    "---|---------|-------|\n",
    "`cmte_nm` | Committee name | object\n",
    "`cmte_id` | Committee identification, assigned | object\n",
    "`cmte_tp` | Committee type. [List of committee type codes](https://www.fec.gov/campaign-finance-data/committee-type-code-descriptions/)  | object\n",
    "<font size=\"5\">**`cmte_pty`**</font>  | **Committee party. [List of party codes](https://www.fec.gov/campaign-finance-data/party-code-descriptions/)** | **object**\n",
    "`cand_name` | Candidate name | object\n",
    "`cand_pty_affiliation` | Political party affiliation reported by the candidate | object\n",
    "`cand_office_st` | Candidate state | object\n",
    "<font size=\"5\">**`cand_office`**</font>  | Candidate office. H = House, P = President, S = Senate | object\n",
    "`cand_office_district` | Candidate district | float64\n",
    "`cand_status` | Candidate status. C = Statutory candidate, F = Statutory candidate for future election, N = Not yet a statutory candidate, P = Statutory candidate in prior cycle | object\n",
    "`rpt_tp` | Report type. [Report type codes](https://www.fec.gov/campaign-finance-data/report-type-code-descriptions/) | object\n",
    "<font size=\"5\">**`transaction_pgi`**</font> | The code for which the contribution was made. EYYYY (election plus election year). P = Primary, G = General, O = Other, C = Convention, R = Runoff, S = Special, E = Recount | object\n",
    "`transaction_tp` | Transaction type. [Type codes](https://www.fec.gov/campaign-finance-data/transaction-type-code-descriptions/) | object\n",
    "`entity_tp` | Entity type. Only valid for electronic filings received after April 2002. CAN = Candidate, CCM = Candidate Committee, COM = Committee, IND = Individual (a person), ORG = Organization (not a committee and not a person), PAC = Political Action Committee, PTY = Party Organization | object\n",
    "`cleaned_name` | Contributor/lender/transfer name | object\n",
    "`city` | City/town | object\n",
    "`state`** | State | object\n",
    "`zip_code` | Zip code | object\n",
    "`employer` | Employer | object\n",
    "`cleaned_occupation`| Occupation | object\n",
    "<font size=\"5\">**`classification`**</font>  | Classification of occupation | object\n",
    "`transaction_dt` | Transaction date (MMDDYYYY) | float64\n",
    "<font size=\"5\">**`cycle`**</font> | Election cycle | float64\n",
    "`transaction_amt` | Transaction amount | float64\n",
    "<font size=\"5\">**`2016_dollars`**</font>  | Transation amount adjusted for inflation | float64\n",
    "`other_id` | Other identification number. For contributions from individuals this column is null. For contributions from candidates or other committees this column will contain that contributor's FEC ID. | object\n",
    "`tran_id` | Transaction ID | object\n",
    "`file_num` | A unique identifier associated with each itemization or transaction appearing in an FEC electronic file. Only valid for electronic filings. | float64\n",
    "`memo_cd` | 'X' indicates that the amount is not to be included in the itemization total. | object\n",
    "`memo_text` | A description of the activity. | object\n",
    "`sub_id` | FEC record number | float64"
   ]
  },
  {
   "cell_type": "markdown",
   "metadata": {},
   "source": [
    "# Data Preparation and Feature Engineering"
   ]
  },
  {
   "cell_type": "code",
   "execution_count": 2,
   "metadata": {},
   "outputs": [],
   "source": [
    "url = 'https://media.githubusercontent.com/media/fivethirtyeight/data/master/science-giving/science_federal_giving.csv'\n",
    "df = pd.read_csv(url, error_bad_lines=False)"
   ]
  },
  {
   "cell_type": "code",
   "execution_count": 3,
   "metadata": {},
   "outputs": [
    {
     "name": "stdout",
     "output_type": "stream",
     "text": [
      "(881793, 31)\n"
     ]
    },
    {
     "data": {
      "text/html": [
       "<div>\n",
       "<style scoped>\n",
       "    .dataframe tbody tr th:only-of-type {\n",
       "        vertical-align: middle;\n",
       "    }\n",
       "\n",
       "    .dataframe tbody tr th {\n",
       "        vertical-align: top;\n",
       "    }\n",
       "\n",
       "    .dataframe thead th {\n",
       "        text-align: right;\n",
       "    }\n",
       "</style>\n",
       "<table border=\"1\" class=\"dataframe\">\n",
       "  <thead>\n",
       "    <tr style=\"text-align: right;\">\n",
       "      <th></th>\n",
       "      <th>cmte_nm</th>\n",
       "      <th>cmte_id</th>\n",
       "      <th>cmte_tp</th>\n",
       "      <th>cmte_pty</th>\n",
       "      <th>cand_name</th>\n",
       "      <th>cand_pty_affiliation</th>\n",
       "      <th>cand_office_st</th>\n",
       "      <th>cand_office</th>\n",
       "      <th>cand_office_district</th>\n",
       "      <th>cand_status</th>\n",
       "      <th>...</th>\n",
       "      <th>transaction_dt</th>\n",
       "      <th>cycle</th>\n",
       "      <th>transaction_amt</th>\n",
       "      <th>2016_dollars</th>\n",
       "      <th>other_id</th>\n",
       "      <th>tran_id</th>\n",
       "      <th>file_num</th>\n",
       "      <th>memo_cd</th>\n",
       "      <th>memo_text</th>\n",
       "      <th>sub_id</th>\n",
       "    </tr>\n",
       "  </thead>\n",
       "  <tbody>\n",
       "    <tr>\n",
       "      <th>0</th>\n",
       "      <td>AMERICAN WAY - DURANT 2012; THE</td>\n",
       "      <td>C00501452</td>\n",
       "      <td>S</td>\n",
       "      <td>REP</td>\n",
       "      <td>DURANT, CLARK</td>\n",
       "      <td>REP</td>\n",
       "      <td>MI</td>\n",
       "      <td>S</td>\n",
       "      <td>0.0</td>\n",
       "      <td>C</td>\n",
       "      <td>...</td>\n",
       "      <td>3302012.0</td>\n",
       "      <td>2012.0</td>\n",
       "      <td>2500.0</td>\n",
       "      <td>2612.50</td>\n",
       "      <td>NaN</td>\n",
       "      <td>SA0108160812336</td>\n",
       "      <td>845273.0</td>\n",
       "      <td>NaN</td>\n",
       "      <td>NaN</td>\n",
       "      <td>1.010000e+18</td>\n",
       "    </tr>\n",
       "    <tr>\n",
       "      <th>1</th>\n",
       "      <td>A LOT OF PEOPLE FOR DAVE OBEY</td>\n",
       "      <td>C00017830</td>\n",
       "      <td>H</td>\n",
       "      <td>DEM</td>\n",
       "      <td>OBEY, DAVID R</td>\n",
       "      <td>DEM</td>\n",
       "      <td>WI</td>\n",
       "      <td>H</td>\n",
       "      <td>7.0</td>\n",
       "      <td>C</td>\n",
       "      <td>...</td>\n",
       "      <td>4182007.0</td>\n",
       "      <td>2008.0</td>\n",
       "      <td>250.0</td>\n",
       "      <td>292.50</td>\n",
       "      <td>NaN</td>\n",
       "      <td>C34559</td>\n",
       "      <td>294636.0</td>\n",
       "      <td>NaN</td>\n",
       "      <td>NaN</td>\n",
       "      <td>4.070000e+18</td>\n",
       "    </tr>\n",
       "    <tr>\n",
       "      <th>2</th>\n",
       "      <td>A WHOLE LOT OF PEOPLE FOR GRIJALVA CONGRESSION...</td>\n",
       "      <td>C00374058</td>\n",
       "      <td>H</td>\n",
       "      <td>DEM</td>\n",
       "      <td>GRIJALVA, RAUL M</td>\n",
       "      <td>DEM</td>\n",
       "      <td>AZ</td>\n",
       "      <td>H</td>\n",
       "      <td>3.0</td>\n",
       "      <td>C</td>\n",
       "      <td>...</td>\n",
       "      <td>6092016.0</td>\n",
       "      <td>2016.0</td>\n",
       "      <td>50.0</td>\n",
       "      <td>50.00</td>\n",
       "      <td>C00401224</td>\n",
       "      <td>VSH8VCDY4S4</td>\n",
       "      <td>1096417.0</td>\n",
       "      <td>NaN</td>\n",
       "      <td>* EARMARKED CONTRIBUTION: SEE BELOW</td>\n",
       "      <td>4.080000e+18</td>\n",
       "    </tr>\n",
       "    <tr>\n",
       "      <th>3</th>\n",
       "      <td>A WHOLE LOT OF PEOPLE FOR GRIJALVA CONGRESSION...</td>\n",
       "      <td>C00374058</td>\n",
       "      <td>H</td>\n",
       "      <td>DEM</td>\n",
       "      <td>GRIJALVA, RAUL M</td>\n",
       "      <td>DEM</td>\n",
       "      <td>AZ</td>\n",
       "      <td>H</td>\n",
       "      <td>3.0</td>\n",
       "      <td>C</td>\n",
       "      <td>...</td>\n",
       "      <td>8192012.0</td>\n",
       "      <td>2012.0</td>\n",
       "      <td>2500.0</td>\n",
       "      <td>2612.50</td>\n",
       "      <td>NaN</td>\n",
       "      <td>C6548162</td>\n",
       "      <td>863428.0</td>\n",
       "      <td>NaN</td>\n",
       "      <td>NaN</td>\n",
       "      <td>4.030000e+18</td>\n",
       "    </tr>\n",
       "    <tr>\n",
       "      <th>4</th>\n",
       "      <td>A WHOLE LOT OF PEOPLE FOR GRIJALVA CONGRESSION...</td>\n",
       "      <td>C00374058</td>\n",
       "      <td>H</td>\n",
       "      <td>DEM</td>\n",
       "      <td>GRIJALVA, RAUL M</td>\n",
       "      <td>DEM</td>\n",
       "      <td>AZ</td>\n",
       "      <td>H</td>\n",
       "      <td>7.0</td>\n",
       "      <td>C</td>\n",
       "      <td>...</td>\n",
       "      <td>10292010.0</td>\n",
       "      <td>2010.0</td>\n",
       "      <td>250.0</td>\n",
       "      <td>273.25</td>\n",
       "      <td>NaN</td>\n",
       "      <td>C5156783</td>\n",
       "      <td>863417.0</td>\n",
       "      <td>NaN</td>\n",
       "      <td>NaN</td>\n",
       "      <td>4.030000e+18</td>\n",
       "    </tr>\n",
       "  </tbody>\n",
       "</table>\n",
       "<p>5 rows × 31 columns</p>\n",
       "</div>"
      ],
      "text/plain": [
       "                                             cmte_nm    cmte_id cmte_tp  \\\n",
       "0                    AMERICAN WAY - DURANT 2012; THE  C00501452       S   \n",
       "1                      A LOT OF PEOPLE FOR DAVE OBEY  C00017830       H   \n",
       "2  A WHOLE LOT OF PEOPLE FOR GRIJALVA CONGRESSION...  C00374058       H   \n",
       "3  A WHOLE LOT OF PEOPLE FOR GRIJALVA CONGRESSION...  C00374058       H   \n",
       "4  A WHOLE LOT OF PEOPLE FOR GRIJALVA CONGRESSION...  C00374058       H   \n",
       "\n",
       "  cmte_pty         cand_name cand_pty_affiliation cand_office_st cand_office  \\\n",
       "0      REP     DURANT, CLARK                  REP             MI           S   \n",
       "1      DEM     OBEY, DAVID R                  DEM             WI           H   \n",
       "2      DEM  GRIJALVA, RAUL M                  DEM             AZ           H   \n",
       "3      DEM  GRIJALVA, RAUL M                  DEM             AZ           H   \n",
       "4      DEM  GRIJALVA, RAUL M                  DEM             AZ           H   \n",
       "\n",
       "   cand_office_district cand_status  ... transaction_dt   cycle  \\\n",
       "0                   0.0           C  ...      3302012.0  2012.0   \n",
       "1                   7.0           C  ...      4182007.0  2008.0   \n",
       "2                   3.0           C  ...      6092016.0  2016.0   \n",
       "3                   3.0           C  ...      8192012.0  2012.0   \n",
       "4                   7.0           C  ...     10292010.0  2010.0   \n",
       "\n",
       "  transaction_amt 2016_dollars   other_id          tran_id   file_num memo_cd  \\\n",
       "0          2500.0      2612.50        NaN  SA0108160812336   845273.0     NaN   \n",
       "1           250.0       292.50        NaN           C34559   294636.0     NaN   \n",
       "2            50.0        50.00  C00401224      VSH8VCDY4S4  1096417.0     NaN   \n",
       "3          2500.0      2612.50        NaN         C6548162   863428.0     NaN   \n",
       "4           250.0       273.25        NaN         C5156783   863417.0     NaN   \n",
       "\n",
       "                             memo_text        sub_id  \n",
       "0                                  NaN  1.010000e+18  \n",
       "1                                  NaN  4.070000e+18  \n",
       "2  * EARMARKED CONTRIBUTION: SEE BELOW  4.080000e+18  \n",
       "3                                  NaN  4.030000e+18  \n",
       "4                                  NaN  4.030000e+18  \n",
       "\n",
       "[5 rows x 31 columns]"
      ]
     },
     "execution_count": 3,
     "metadata": {},
     "output_type": "execute_result"
    }
   ],
   "source": [
    "print(df.shape)\n",
    "df.head()"
   ]
  },
  {
   "cell_type": "code",
   "execution_count": 4,
   "metadata": {},
   "outputs": [
    {
     "name": "stdout",
     "output_type": "stream",
     "text": [
      "cmte_nm                 411590\n",
      "cmte_id                 411590\n",
      "cmte_tp                 411590\n",
      "cmte_pty                411796\n",
      "cand_name               497992\n",
      "cand_pty_affiliation    497997\n",
      "cand_office_st          497992\n",
      "cand_office             497992\n",
      "cand_office_district    498030\n",
      "cand_status             498076\n",
      "rpt_tp                  411590\n",
      "transaction_pgi         451317\n",
      "transaction_tp          411590\n",
      "entity_tp               411636\n",
      "cleaned_name            411616\n",
      "city                    411668\n",
      "state                   412250\n",
      "zip_code                412151\n",
      "employer                413929\n",
      "cleanedoccupation       411590\n",
      "classification          411590\n",
      "transaction_dt          411597\n",
      "cycle                   411597\n",
      "transaction_amt         411590\n",
      "2016_dollars            411619\n",
      "other_id                783423\n",
      "tran_id                 411590\n",
      "file_num                411590\n",
      "memo_cd                 878451\n",
      "memo_text               697623\n",
      "sub_id                  411590\n",
      "dtype: int64\n"
     ]
    }
   ],
   "source": [
    "print(df.isna().sum()) # Clearly there is a bit of an issue here"
   ]
  },
  {
   "cell_type": "code",
   "execution_count": 21,
   "metadata": {},
   "outputs": [
    {
     "name": "stdout",
     "output_type": "stream",
     "text": [
      "cmte_pty           0\n",
      "transaction_pgi    0\n",
      "classification     0\n",
      "cycle              0\n",
      "2016_dollars       0\n",
      "dtype: int64\n",
      "(422393, 5)\n"
     ]
    },
    {
     "data": {
      "text/html": [
       "<div>\n",
       "<style scoped>\n",
       "    .dataframe tbody tr th:only-of-type {\n",
       "        vertical-align: middle;\n",
       "    }\n",
       "\n",
       "    .dataframe tbody tr th {\n",
       "        vertical-align: top;\n",
       "    }\n",
       "\n",
       "    .dataframe thead th {\n",
       "        text-align: right;\n",
       "    }\n",
       "</style>\n",
       "<table border=\"1\" class=\"dataframe\">\n",
       "  <thead>\n",
       "    <tr style=\"text-align: right;\">\n",
       "      <th></th>\n",
       "      <th>cmte_pty</th>\n",
       "      <th>transaction_pgi</th>\n",
       "      <th>classification</th>\n",
       "      <th>cycle</th>\n",
       "      <th>2016_dollars</th>\n",
       "    </tr>\n",
       "  </thead>\n",
       "  <tbody>\n",
       "    <tr>\n",
       "      <th>0</th>\n",
       "      <td>REP</td>\n",
       "      <td>P</td>\n",
       "      <td>Engineer</td>\n",
       "      <td>2012</td>\n",
       "      <td>2612.50</td>\n",
       "    </tr>\n",
       "    <tr>\n",
       "      <th>1</th>\n",
       "      <td>DEM</td>\n",
       "      <td>P</td>\n",
       "      <td>Engineer</td>\n",
       "      <td>2008</td>\n",
       "      <td>292.50</td>\n",
       "    </tr>\n",
       "    <tr>\n",
       "      <th>2</th>\n",
       "      <td>DEM</td>\n",
       "      <td>P</td>\n",
       "      <td>Engineer</td>\n",
       "      <td>2016</td>\n",
       "      <td>50.00</td>\n",
       "    </tr>\n",
       "    <tr>\n",
       "      <th>3</th>\n",
       "      <td>DEM</td>\n",
       "      <td>P</td>\n",
       "      <td>Engineer</td>\n",
       "      <td>2012</td>\n",
       "      <td>2612.50</td>\n",
       "    </tr>\n",
       "    <tr>\n",
       "      <th>4</th>\n",
       "      <td>DEM</td>\n",
       "      <td>G</td>\n",
       "      <td>Scientist</td>\n",
       "      <td>2010</td>\n",
       "      <td>273.25</td>\n",
       "    </tr>\n",
       "  </tbody>\n",
       "</table>\n",
       "</div>"
      ],
      "text/plain": [
       "  cmte_pty transaction_pgi classification  cycle  2016_dollars\n",
       "0      REP               P       Engineer   2012       2612.50\n",
       "1      DEM               P       Engineer   2008        292.50\n",
       "2      DEM               P       Engineer   2016         50.00\n",
       "3      DEM               P       Engineer   2012       2612.50\n",
       "4      DEM               G      Scientist   2010        273.25"
      ]
     },
     "execution_count": 21,
     "metadata": {},
     "output_type": "execute_result"
    }
   ],
   "source": [
    "# We don't care about these features because they don't give us additional information and they are redundant.\n",
    "new = df.drop(columns=['cand_pty_affiliation', 'state',\"cand_office\",'cand_name', 'cleanedoccupation','cand_office_st', 'cleaned_name','employer','cmte_nm', 'cmte_id' , 'cmte_tp', 'cand_office_district', 'transaction_amt', 'cand_status', 'rpt_tp', 'transaction_tp', 'tran_id', 'file_num', 'memo_cd', 'memo_text', 'sub_id', 'other_id', 'zip_code', \"cand_name\", 'entity_tp', 'city','transaction_dt'])\n",
    "\n",
    "# We only want to look at the general presidential election donations\n",
    "new = new[(new['cmte_pty'] == 'DEM') | (new['cmte_pty'] == 'REP')]\n",
    "\n",
    "# Keep only General and Primary election values in the transaction_pgi column\n",
    "new = new[(new['transaction_pgi'] == 'G') | (new['transaction_pgi'] == 'P')]\n",
    "\n",
    "new['cmte_pty'].replace(to_replace = 'dem', value = 'DEM', inplace = True)\n",
    "new['cmte_pty'].replace(to_replace = 'Dem', value = 'DEM', inplace = True)\n",
    "\n",
    "# Standardize the label of the Republican party\n",
    "new['cmte_pty'].replace(to_replace = 'rep', value = 'REP', inplace = True)\n",
    "new['cmte_pty'].replace(to_replace = 'Rep', value = 'REP', inplace = True)\n",
    "\n",
    "new = new.dropna()\n",
    "new['cycle'] = new['cycle'].astype(int)\n",
    "print(new.isna().sum()) \n",
    "print(new.shape)\n",
    "new.head()"
   ]
  },
  {
   "cell_type": "code",
   "execution_count": 19,
   "metadata": {},
   "outputs": [
    {
     "name": "stdout",
     "output_type": "stream",
     "text": [
      "DEM    320692\n",
      "REP    101111\n",
      "Name: cmte_pty, dtype: int64\n",
      "(421803, 6)\n"
     ]
    }
   ],
   "source": [
    "print(new['cmte_pty'].value_counts())\n",
    "print(new.shape)"
   ]
  },
  {
   "cell_type": "markdown",
   "metadata": {},
   "source": [
    "# Data Exploration"
   ]
  },
  {
   "cell_type": "markdown",
   "metadata": {},
   "source": [
    "We found that the two major parties were the Democratic and Republican parties. We used `seaborn` package to view our categorical variables with heat maps. We found that approximately 75% of donations were to the Democratic party while 25% were to the Republican party. Primary elections resulted in the most donations while engineers was the group that donated over other occupation groups. \n",
    "\n",
    "The median donation value to the Republican party was larger than that of the Democratic party, $50 and $253.50 respectively. The majority of the donations were below $500.\n"
   ]
  },
  {
   "cell_type": "code",
   "execution_count": 93,
   "metadata": {},
   "outputs": [
    {
     "data": {
      "image/png": "[encoded data removed]",
      "text/plain": [
       "<Figure size 432x288 with 1 Axes>"
      ]
     },
     "metadata": {},
     "output_type": "display_data"
    },
    {
     "data": {
      "text/plain": [
       "[Text(0, 0, 'Democrat'), Text(0, 0, 'Republican')]"
      ]
     },
     "execution_count": 93,
     "metadata": {},
     "output_type": "execute_result"
    },
    {
     "data": {
      "image/png": "[encoded data removed]",
      "text/plain": [
       "<Figure size 936x432 with 2 Axes>"
      ]
     },
     "metadata": {
      "needs_background": "light"
     },
     "output_type": "display_data"
    },
    {
     "data": {
      "image/png": "[encoded data removed]",
      "text/plain": [
       "<Figure size 936x432 with 2 Axes>"
      ]
     },
     "metadata": {
      "needs_background": "light"
     },
     "output_type": "display_data"
    },
    {
     "data": {
      "image/png": "[encoded data removed]",
      "text/plain": [
       "<Figure size 936x432 with 2 Axes>"
      ]
     },
     "metadata": {
      "needs_background": "light"
     },
     "output_type": "display_data"
    },
    {
     "data": {
      "text/plain": [
       "<Figure size 432x288 with 0 Axes>"
      ]
     },
     "metadata": {},
     "output_type": "display_data"
    },
    {
     "data": {
      "image/png": "[encoded data removed]",
      "text/plain": [
       "<Figure size 936x720 with 1 Axes>"
      ]
     },
     "metadata": {
      "needs_background": "light"
     },
     "output_type": "display_data"
    }
   ],
   "source": [
    "import seaborn as sns\n",
    "\n",
    "dem_percentage = 320692/421803*100 #ew oh well\n",
    "rep_percentage = 101111/421803*100\n",
    "\n",
    "dem = new[new['cmte_pty'] == 'DEM']\n",
    "rep = new[new['cmte_pty'] == 'REP']\n",
    "lib = new[new['cmte_pty'] == 'LIB']\n",
    "\n",
    "ticklabels = ['Democrat', 'Republican']\n",
    "\n",
    "colors = [\"blue\", \"red\"]\n",
    "\n",
    "# 1 cmte_pty\n",
    "labels = 'Democrats', 'Repubicans'\n",
    "sizes = [dem_percentage, rep_percentage]\n",
    "explode = (0, 0.1)  # only \"explode\" the 2nd slice\n",
    "fig1, ax1 = plt.subplots()\n",
    "ax1.pie(sizes, explode=explode, labels=labels, autopct='%1.1f%%', shadow=True, startangle=90, colors = colors)\n",
    "ax1.axis('equal') \n",
    "plt.show()\n",
    "\n",
    "# 2 transaction_pgi\n",
    "state_graph = new.groupby(['transaction_pgi','cmte_pty']).size().reset_index(name='counts')\n",
    "state_piv = state_graph.pivot(\"transaction_pgi\", \"cmte_pty\", \"counts\")\n",
    "state_piv = state_piv.replace(np.nan, 0) \n",
    "fig2, ax2 = plt.subplots(figsize=(13, 6))\n",
    "sns.heatmap(state_piv, annot=True, linewidths=.5, ax=ax2, cmap='BuPu',fmt='g')\n",
    "ax2.axes.set_title(\"Reasons for Donating and Party\");\n",
    "ax2.axes.set_xlabel('Political Parties')\n",
    "ax2.axes.set_ylabel('Reasons for Donating')\n",
    "\n",
    "# 3 classification\n",
    "occupation_graph = new.groupby(['classification','cmte_pty']).size().reset_index(name='counts')\n",
    "occupation_piv = occupation_graph.pivot(\"classification\", \"cmte_pty\", \"counts\")\n",
    "occupation_piv = occupation_piv.replace(np.nan, 0) \n",
    "fig3, ax3 = plt.subplots(figsize=(13, 6))\n",
    "sns.heatmap(occupation_piv, annot=True, linewidths=.5, ax=ax3, cmap='BuPu',fmt='g')\n",
    "ax3.axes.set_title(\"State and Party\");\n",
    "ax3.axes.set_xlabel('Political Parties')\n",
    "ax3.axes.set_ylabel('Occupation Classification of Donor')\n",
    "\n",
    "# 4 cycle\n",
    "cycle_graph = new.groupby(['cycle','cmte_pty']).size().reset_index(name='counts')\n",
    "cycle_piv = cycle_graph.pivot(\"cycle\", \"cmte_pty\", \"counts\")\n",
    "cycle_piv = cycle_piv.replace(np.nan, 0) \n",
    "fig5, ax5 = plt.subplots(figsize=(13, 6))\n",
    "sns.heatmap(cycle_piv, annot=True, linewidths=.5, ax=ax5, cmap='BuPu',fmt='g')\n",
    "ax5.axes.set_title(\"State and Party\");\n",
    "ax5.axes.set_xlabel('Political Parties')\n",
    "ax5.axes.set_ylabel('Occupation Classification of Donor')\n",
    "\n",
    "# 5 2016_dollars\n",
    "plt.figure()\n",
    "fig6, ax6 = plt.subplots(figsize=(13, 10))\n",
    "ax6.set_title('Donation amount and Political Party')\n",
    "ax6.set_xlabel('Political Party')\n",
    "ax6.set_ylabel('Donation Amount')\n",
    "ax6.yaxis.grid(True, linestyle='-', which='major', color='lightgrey',\n",
    "               alpha=0.5)\n",
    "ax6.boxplot([dem['2016_dollars'], rep['2016_dollars']])\n",
    "ax6.set_xticklabels(ticklabels)"
   ]
  },
  {
   "cell_type": "code",
   "execution_count": 85,
   "metadata": {},
   "outputs": [
    {
     "data": {
      "image/png": "[encoded data removed]",
      "text/plain": [
       "<Figure size 936x432 with 1 Axes>"
      ]
     },
     "metadata": {
      "needs_background": "light"
     },
     "output_type": "display_data"
    }
   ],
   "source": [
    "fig7, ax7 = plt.subplots(figsize=(13, 6))\n",
    "ax7.set_title('Donation amount and Political Party')\n",
    "ax7.hist(new['2016_dollars'][new['cmte_pty'] == \"DEM\"], color = \"blue\", label = \"Democrat\")\n",
    "ax7.hist(new['2016_dollars'][new['cmte_pty'] == \"REP\"], color = \"red\", label = \"Republican\")\n",
    "ax7.legend(prop={'size': 20});"
   ]
  },
  {
   "cell_type": "markdown",
   "metadata": {},
   "source": [
    "# Five Number Summaries of Democratic and Republican Party Donations\n",
    "\n",
    "## Democratic Party\n",
    "Statistic | Dollar Amount \n",
    "---|---------|\n",
    "Minimum | -5,382\n",
    "1st Quartile | 25\n",
    "Median | 50\n",
    "3rd Quartile | 257.25\n",
    "Maximum | 50,000\n",
    "\n",
    "## Republican Party\n",
    "Statistic | Dollar Amount \n",
    "---|---------|\n",
    "Minimum | -7,747.20\n",
    "1st Quartile | 100\n",
    "Median | 253.50\n",
    "3rd Quartile | 522.50\n",
    "Maximum | 101,602.80"
   ]
  },
  {
   "cell_type": "markdown",
   "metadata": {},
   "source": [
    "# Downsampling"
   ]
  },
  {
   "cell_type": "markdown",
   "metadata": {},
   "source": [
    "Because approximately 75% of the donations were made to the democratic party, we downsampled our dataset to be representative of the entire dataset."
   ]
  },
  {
   "cell_type": "code",
   "execution_count": 29,
   "metadata": {},
   "outputs": [
    {
     "name": "stdout",
     "output_type": "stream",
     "text": [
      "76.02885707308862\n",
      "23.97114292691138\n"
     ]
    }
   ],
   "source": [
    "dem_percentage = 320692/421803*100 #ew oh well\n",
    "rep_percentage = 101111/421803*100\n",
    "\n",
    "print(dem_percentage) \n",
    "print(rep_percentage) "
   ]
  },
  {
   "cell_type": "code",
   "execution_count": 31,
   "metadata": {},
   "outputs": [],
   "source": [
    "only_dems = new[new['cmte_pty'] == 'DEM']\n",
    "only_reps = new[new['cmte_pty'] == 'REP']"
   ]
  },
  {
   "cell_type": "code",
   "execution_count": 33,
   "metadata": {},
   "outputs": [
    {
     "name": "stdout",
     "output_type": "stream",
     "text": [
      "(32120, 5)\n",
      "(10119, 5)\n"
     ]
    }
   ],
   "source": [
    "# We are cutting our dataset down to 5% of what it was before\n",
    "dem_part = only_dems.sample(frac = 0.05) \n",
    "print(dem_part.shape)\n",
    "rep_part = only_reps.sample(frac = 0.05) \n",
    "print(rep_part.shape)"
   ]
  },
  {
   "cell_type": "code",
   "execution_count": 34,
   "metadata": {},
   "outputs": [],
   "source": [
    "# Combine the 3 parties to one dataframe \n",
    "frames = [dem_part, rep_part] \n",
    "stratified_sample = pd.concat(frames) "
   ]
  },
  {
   "cell_type": "code",
   "execution_count": 35,
   "metadata": {},
   "outputs": [
    {
     "data": {
      "text/plain": [
       "(42239, 5)"
      ]
     },
     "execution_count": 35,
     "metadata": {},
     "output_type": "execute_result"
    }
   ],
   "source": [
    "stratified_sample.shape"
   ]
  },
  {
   "cell_type": "markdown",
   "metadata": {},
   "source": [
    "# Analysis"
   ]
  },
  {
   "cell_type": "markdown",
   "metadata": {},
   "source": [
    "- Summary of your process"
   ]
  },
  {
   "cell_type": "code",
   "execution_count": null,
   "metadata": {},
   "outputs": [],
   "source": []
  },
  {
   "cell_type": "code",
   "execution_count": null,
   "metadata": {},
   "outputs": [],
   "source": []
  }
 ],
 "metadata": {
  "kernelspec": {
   "display_name": "Python 3",
   "language": "python",
   "name": "python3"
  },
  "language_info": {
   "codemirror_mode": {
    "name": "ipython",
    "version": 3
   },
   "file_extension": ".py",
   "mimetype": "text/x-python",
   "name": "python",
   "nbconvert_exporter": "python",
   "pygments_lexer": "ipython3",
   "version": "3.7.3"
  }
 },
 "nbformat": 4,
 "nbformat_minor": 2
}
